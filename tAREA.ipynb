{
 "cells": [
  {
   "cell_type": "markdown",
   "metadata": {},
   "source": [
    "# Tarea 11"
   ]
  },
  {
   "cell_type": "markdown",
   "metadata": {},
   "source": [
    "Repositorio: https://github.com/KennethJYS/Tarea-11"
   ]
  },
  {
   "cell_type": "code",
   "execution_count": 9,
   "metadata": {},
   "outputs": [
    {
     "name": "stdout",
     "output_type": "stream",
     "text": [
      "The autoreload extension is already loaded. To reload it, use:\n",
      "  %reload_ext autoreload\n"
     ]
    }
   ],
   "source": [
    "%load_ext autoreload\n",
    "import numpy as np\n",
    "from src import gauss_jacobi,gauss_seidel"
   ]
  },
  {
   "cell_type": "markdown",
   "metadata": {},
   "source": [
    "### Ejercicio 1"
   ]
  },
  {
   "cell_type": "markdown",
   "metadata": {},
   "source": [
    "a"
   ]
  },
  {
   "cell_type": "code",
   "execution_count": 10,
   "metadata": {},
   "outputs": [
    {
     "name": "stdout",
     "output_type": "stream",
     "text": [
      "[02-05 21:53:47][INFO] i= 0 x: [0. 0. 0.]\n",
      "[02-05 21:53:47][INFO] i= 1 x: [[0.33333333 0.         0.57142857]]\n",
      "[02-05 21:53:47][INFO] i= 2 x: [[ 0.14285714 -0.35714286  0.42857143]]\n"
     ]
    },
    {
     "data": {
      "text/plain": [
       "(array([[ 0.14285714],\n",
       "        [-0.35714286],\n",
       "        [ 0.42857143]]),\n",
       " [array([0., 0., 0.]),\n",
       "  array([[0.33333333],\n",
       "         [0.        ],\n",
       "         [0.57142857]]),\n",
       "  array([[ 0.14285714],\n",
       "         [-0.35714286],\n",
       "         [ 0.42857143]])])"
      ]
     },
     "execution_count": 10,
     "metadata": {},
     "output_type": "execute_result"
    }
   ],
   "source": [
    "%autoreload 2\n",
    "A = [[3,-1,1],[3,6,2],[3,3,7]]\n",
    "b = np.array([1,0,4])\n",
    "x0=np.zeros(len(b))\n",
    "max_iter = 3\n",
    "tol = 10e-6\n",
    "\n",
    "gauss_jacobi(A=A, b=b, x0=x0, tol=tol, max_iter=max_iter)"
   ]
  },
  {
   "cell_type": "markdown",
   "metadata": {},
   "source": [
    "b"
   ]
  },
  {
   "cell_type": "code",
   "execution_count": 11,
   "metadata": {},
   "outputs": [
    {
     "name": "stdout",
     "output_type": "stream",
     "text": [
      "[02-05 21:53:47][INFO] i= 0 x: [0. 0. 0.]\n",
      "[02-05 21:53:47][INFO] i= 1 x: [[0.9 0.7 0.6]]\n",
      "[02-05 21:53:47][INFO] i= 2 x: [[0.97 0.91 0.74]]\n"
     ]
    },
    {
     "data": {
      "text/plain": [
       "(array([[0.97],\n",
       "        [0.91],\n",
       "        [0.74]]),\n",
       " [array([0., 0., 0.]),\n",
       "  array([[0.9],\n",
       "         [0.7],\n",
       "         [0.6]]),\n",
       "  array([[0.97],\n",
       "         [0.91],\n",
       "         [0.74]])])"
      ]
     },
     "execution_count": 11,
     "metadata": {},
     "output_type": "execute_result"
    }
   ],
   "source": [
    "%autoreload 2\n",
    "A = [[10,-1,0],[-1,10,-2],[0,-2,10]]\n",
    "b = np.array([9,7,6],dtype=float)\n",
    "x0=np.zeros(len(b))\n",
    "max_iter = 3\n",
    "tol = 10e-6\n",
    "\n",
    "gauss_jacobi(A=A, b=b, x0=x0, tol=tol, max_iter=max_iter)"
   ]
  },
  {
   "cell_type": "markdown",
   "metadata": {},
   "source": [
    "c"
   ]
  },
  {
   "cell_type": "code",
   "execution_count": 12,
   "metadata": {},
   "outputs": [
    {
     "name": "stdout",
     "output_type": "stream",
     "text": [
      "[02-05 21:53:47][INFO] i= 0 x: [0. 0. 0. 0.]\n",
      "[02-05 21:53:47][INFO] i= 1 x: [[ 1.6    2.5   -1.375 -2.2  ]]\n",
      "[02-05 21:53:47][INFO] i= 2 x: [[ 2.85   1.15  -0.4   -2.475]]\n"
     ]
    },
    {
     "data": {
      "text/plain": [
       "(array([[ 2.85 ],\n",
       "        [ 1.15 ],\n",
       "        [-0.4  ],\n",
       "        [-2.475]]),\n",
       " [array([0., 0., 0., 0.]),\n",
       "  array([[ 1.6  ],\n",
       "         [ 2.5  ],\n",
       "         [-1.375],\n",
       "         [-2.2  ]]),\n",
       "  array([[ 2.85 ],\n",
       "         [ 1.15 ],\n",
       "         [-0.4  ],\n",
       "         [-2.475]])])"
      ]
     },
     "execution_count": 12,
     "metadata": {},
     "output_type": "execute_result"
    }
   ],
   "source": [
    "%autoreload 2\n",
    "A = [[10,-5,0,0],[5,10,-4,0],[0,-4,8,-1],[0,0,-1,5]]\n",
    "b = np.array([16,25,-11,-11],dtype=float)\n",
    "x0=np.zeros(len(b))\n",
    "max_iter = 3\n",
    "tol = 10e-6\n",
    "\n",
    "gauss_jacobi(A=A, b=b, x0=x0, tol=tol, max_iter=max_iter)"
   ]
  },
  {
   "cell_type": "markdown",
   "metadata": {},
   "source": [
    "d"
   ]
  },
  {
   "cell_type": "code",
   "execution_count": 13,
   "metadata": {},
   "outputs": [
    {
     "name": "stdout",
     "output_type": "stream",
     "text": [
      "[02-05 21:53:47][INFO] i= 0 x: [0. 0. 0. 0. 0.]\n",
      "[02-05 21:53:47][INFO] i= 1 x: [[ 1.5 -2.   1.2  1.5  1.5]]\n",
      "[02-05 21:53:47][INFO] i= 2 x: [[ 1.325 -1.6    1.6    1.675  2.425]]\n"
     ]
    },
    {
     "data": {
      "text/plain": [
       "(array([[ 1.325],\n",
       "        [-1.6  ],\n",
       "        [ 1.6  ],\n",
       "        [ 1.675],\n",
       "        [ 2.425]]),\n",
       " [array([0., 0., 0., 0., 0.]),\n",
       "  array([[ 1.5],\n",
       "         [-2. ],\n",
       "         [ 1.2],\n",
       "         [ 1.5],\n",
       "         [ 1.5]]),\n",
       "  array([[ 1.325],\n",
       "         [-1.6  ],\n",
       "         [ 1.6  ],\n",
       "         [ 1.675],\n",
       "         [ 2.425]])])"
      ]
     },
     "execution_count": 13,
     "metadata": {},
     "output_type": "execute_result"
    }
   ],
   "source": [
    "%autoreload 2\n",
    "A = [[4,1,1,0,1],[-1,-3,1,1,0],[2,1,5,-1,-1],[-1,-1,-1,4,0],[0,2,-1,1,4]]\n",
    "b = np.array([6,6,6,6,6],dtype=float)\n",
    "x0=np.zeros(len(b))\n",
    "max_iter = 3\n",
    "tol = 10e-6\n",
    "\n",
    "gauss_jacobi(A=A, b=b, x0=x0, tol=tol, max_iter=max_iter)"
   ]
  },
  {
   "cell_type": "markdown",
   "metadata": {},
   "source": [
    "## Ejercicio 2"
   ]
  }
 ],
 "metadata": {
  "kernelspec": {
   "display_name": "Python 3",
   "language": "python",
   "name": "python3"
  },
  "language_info": {
   "codemirror_mode": {
    "name": "ipython",
    "version": 3
   },
   "file_extension": ".py",
   "mimetype": "text/x-python",
   "name": "python",
   "nbconvert_exporter": "python",
   "pygments_lexer": "ipython3",
   "version": "3.13.0"
  }
 },
 "nbformat": 4,
 "nbformat_minor": 2
}
